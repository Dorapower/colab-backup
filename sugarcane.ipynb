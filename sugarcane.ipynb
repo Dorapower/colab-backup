{
  "nbformat": 4,
  "nbformat_minor": 0,
  "metadata": {
    "colab": {
      "name": "sugarcane.ipynb",
      "provenance": [],
      "collapsed_sections": [],
      "authorship_tag": "ABX9TyOha4sLXIXwD43wF3N7weR6",
      "include_colab_link": true
    },
    "kernelspec": {
      "name": "python3",
      "display_name": "Python 3"
    },
    "language_info": {
      "name": "python"
    }
  },
  "cells": [
    {
      "cell_type": "markdown",
      "metadata": {
        "id": "view-in-github",
        "colab_type": "text"
      },
      "source": [
        "<a href=\"https://colab.research.google.com/github/Dorapower/colab-backup/blob/main/sugarcane.ipynb\" target=\"_parent\"><img src=\"https://colab.research.google.com/assets/colab-badge.svg\" alt=\"Open In Colab\"/></a>"
      ]
    },
    {
      "cell_type": "code",
      "execution_count": null,
      "metadata": {
        "id": "G5MM3eGZcS0c"
      },
      "outputs": [],
      "source": [
        "import numpy as np\n",
        "import seaborn as sns"
      ]
    },
    {
      "cell_type": "code",
      "source": [
        "p = 1/16**3 # probablity a block selected by random tick\n",
        "stateN = 16 # number of sugarcane state"
      ],
      "metadata": {
        "id": "3CqVrJk-cyqv"
      },
      "execution_count": null,
      "outputs": []
    },
    {
      "cell_type": "code",
      "source": [
        "random_tick = np.matrix(np.diag([1-p]*stateN+[1]) + np.diag([p]*stateN,-1))**3\n",
        "harvest = np.matrix(np.diag([1]*stateN+[0]) + np.diag([1],stateN))"
      ],
      "metadata": {
        "id": "DpOoD9cGEALP"
      },
      "execution_count": null,
      "outputs": []
    },
    {
      "cell_type": "markdown",
      "source": [
        "### example of instant harvest\n",
        "\n",
        "in this circumstances, 1,15 will directly convert into 1,0 and provide a profit, which is impossible since piston don't work at random tick"
      ],
      "metadata": {
        "id": "J30aYkT6_tix"
      }
    },
    {
      "cell_type": "code",
      "source": [
        "rtwh = np.diag([1-p]*stateN) + np.diag([p]*(stateN-1),-1) # random tick with harvest\n",
        "rtwh[0,-1] = p\n",
        "# probablity distribution of states\n",
        "coeff = np.concatenate((rtwh-np.eye(stateN),np.array([1]*stateN).reshape(1,-1)))\n",
        "P, _, _, _ = np.linalg.lstsq(coeff,np.array([0]*stateN+[1]),None) # which is a uniform distribution and is expected\n",
        "# expected profit every tick\n",
        "profit = P[-1] * p * 3\n",
        "# expected profit over an hour\n",
        "profit_insta = profit * 20 * 3600\n",
        "profit_insta"
      ],
      "metadata": {
        "colab": {
          "base_uri": "https://localhost:8080/"
        },
        "id": "MOFVg0xgABAO",
        "outputId": "b1eec568-ee8a-483a-e431-e32e64860f26"
      },
      "execution_count": null,
      "outputs": [
        {
          "output_type": "execute_result",
          "data": {
            "text/plain": [
              "3.295898437500011"
            ]
          },
          "metadata": {},
          "execution_count": 196
        }
      ]
    },
    {
      "cell_type": "markdown",
      "source": [
        "### harvest with interval N ticks"
      ],
      "metadata": {
        "id": "zA6LBhqqAGLb"
      }
    },
    {
      "cell_type": "code",
      "source": [
        "#@title M Minutes Demo { run: \"auto\" }\n",
        "minutes =  20#@param {type:\"integer\"}\n",
        "# distribution after harvest\n",
        "N = minutes*60*20\n",
        "rn = random_tick**N\n",
        "coeff = np.concatenate((harvest*rn-np.eye(stateN+1), np.array([[1]*(stateN+1)])),0)\n",
        "P, _, _, _ = np.linalg.lstsq(coeff,np.array([0]*(stateN+1)+[1]),None)\n",
        "# distruibution before harvest\n",
        "Pf = np.concatenate((P[:-1],np.zeros(17)),0)  # full probablity list\n",
        "Rf = np.linalg.matrix_power(np.diag([1-p]*32+[1])+np.diag([p]*32,1),3) \n",
        "Pb = np.dot(Pf,np.linalg.matrix_power(Rf,N))\n",
        "# draw some fancy plot\n",
        "fig = sns.lineplot(data={'after':P,'before':Pb})\n",
        "fig.set(xlabel='state',ylabel='probablity')\n",
        "# expected profit per tick\n",
        "profit = np.sum(np.dot(Pb,np.array([0]*16+[1]*16+[2])))/N\n",
        "# profit per hour\n",
        "profit * 20 * 3600"
      ],
      "metadata": {
        "colab": {
          "base_uri": "https://localhost:8080/",
          "height": 297
        },
        "id": "EmgQ7FjhcZge",
        "outputId": "79cde622-700c-43c6-a984-35bc11a5f945"
      },
      "execution_count": null,
      "outputs": [
        {
          "output_type": "execute_result",
          "data": {
            "text/plain": [
              "2.574086395822779"
            ]
          },
          "metadata": {},
          "execution_count": 210
        },
        {
          "output_type": "display_data",
          "data": {
            "text/plain": [
              "<Figure size 432x288 with 1 Axes>"
            ],
            "image/png": "[encoded data removed]"
          },
          "metadata": {
            "needs_background": "light"
          }
        }
      ]
    },
    {
      "cell_type": "markdown",
      "source": [
        "Now we find the best interval"
      ],
      "metadata": {
        "id": "V5jqS6AA3qh4"
      }
    },
    {
      "cell_type": "code",
      "source": [
        "def profitInterval(N):\n",
        "  rn = random_tick**N\n",
        "  coeff = np.concatenate((harvest*rn-np.eye(stateN+1),np.array([[1]*(stateN+1)])),0)\n",
        "  P, _, _, _ = np.linalg.lstsq(coeff,np.array([0]*(stateN+1)+[1]),None)\n",
        "  Pf = np.concatenate((P[:-1],np.zeros(17)),0)  # full probablity list\n",
        "  Rf = np.linalg.matrix_power(np.diag([1-p]*32+[1])+np.diag([p]*32,1),3) \n",
        "  Pb = np.dot(Pf,np.linalg.matrix_power(Rf,N))\n",
        "  return np.sum(np.dot(Pb,np.array([0]*16+[1]*16+[2])))/N*20*3600"
      ],
      "metadata": {
        "id": "XUHXylA39Iam"
      },
      "execution_count": null,
      "outputs": []
    },
    {
      "cell_type": "code",
      "source": [
        "profits = [profit_insta]\n",
        "for minutes in range(1,100):\n",
        "  N = minutes * 60 * 20\n",
        "  profits.append(profitInterval(N))\n",
        "\n",
        "fig = sns.lineplot(data=profits)\n",
        "fig.set(xlabel='interval/min',ylabel='sugarcane/h/plant')\n",
        "\n",
        "# maximizing point\n",
        "pd = np.diff(profits)\n",
        "[(n, profits[n]) for n in range(1, len(pd)) if pd[n]<0<pd[n-1]]"
      ],
      "metadata": {
        "colab": {
          "base_uri": "https://localhost:8080/",
          "height": 297
        },
        "id": "zM9OgxBXemyv",
        "outputId": "e7d2761e-af31-488c-f821-ba2625ea827e"
      },
      "execution_count": null,
      "outputs": [
        {
          "output_type": "execute_result",
          "data": {
            "text/plain": [
              "[(21, 2.5763867185669698), (41, 2.592387782912192)]"
            ]
          },
          "metadata": {},
          "execution_count": 206
        },
        {
          "output_type": "display_data",
          "data": {
            "text/plain": [
              "<Figure size 432x288 with 1 Axes>"
            ],
            "image/png": "[encoded data removed]"
          },
          "metadata": {
            "needs_background": "light"
          }
        }
      ]
    },
    {
      "cell_type": "code",
      "source": [
        "profits = np.zeros((2,2400))\n",
        "# maximize maximum\n",
        "for delta in range(-1200,1200):\n",
        "  N = 41*60*20 + delta\n",
        "  profits[0][delta+1200]=delta\n",
        "  profits[1][delta+1200]=profitInterval(N)\n",
        "  \n",
        "fig = sns.lineplot(x=profits[0],y=profits[1])\n",
        "fig.set(xlabel='delta/tick',ylabel='s/h/p')\n",
        "n = np.argmax(profits[1])\n",
        "profits[:,n]"
      ],
      "metadata": {
        "colab": {
          "base_uri": "https://localhost:8080/",
          "height": 297
        },
        "id": "Fpi5_PsmW5y0",
        "outputId": "5df18185-6c6f-43a3-89ed-46734a414489"
      },
      "execution_count": null,
      "outputs": [
        {
          "output_type": "execute_result",
          "data": {
            "text/plain": [
              "array([51.        ,  2.59239479])"
            ]
          },
          "metadata": {},
          "execution_count": 207
        },
        {
          "output_type": "display_data",
          "data": {
            "text/plain": [
              "<Figure size 432x288 with 1 Axes>"
            ],
            "image/png": "[encoded data removed]"
          },
          "metadata": {
            "needs_background": "light"
          }
        }
      ]
    },
    {
      "cell_type": "markdown",
      "source": [
        "So we get our answer, with interval of 41 minutes and 51 ticks, with the average 2.59 sugarcane per hour per plant. Of course, as you can see in the plot, the profit will always be above 2.59(2) as long as the interval is near 41 min, so tick accurate interval is really insignificant."
      ],
      "metadata": {
        "id": "8mQDvDBJAtF1"
      }
    },
    {
      "cell_type": "code",
      "source": [
        "profits[1,n]/3600/20*1e6"
      ],
      "metadata": {
        "colab": {
          "base_uri": "https://localhost:8080/"
        },
        "id": "IHb9-t6aN3Gx",
        "outputId": "a69fad61-300a-455f-8689-09989f795da3"
      },
      "execution_count": null,
      "outputs": [
        {
          "output_type": "execute_result",
          "data": {
            "text/plain": [
              "36.005483231445325"
            ]
          },
          "metadata": {},
          "execution_count": 208
        }
      ]
    },
    {
      "cell_type": "code",
      "source": [
        ""
      ],
      "metadata": {
        "id": "4WsgMeG3PJyG"
      },
      "execution_count": null,
      "outputs": []
    }
  ]
}